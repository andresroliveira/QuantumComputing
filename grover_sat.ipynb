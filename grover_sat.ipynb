{
 "cells": [
  {
   "cell_type": "code",
   "execution_count": 1,
   "metadata": {},
   "outputs": [],
   "source": [
    "import numpy as np\n",
    "from qiskit import *\n",
    "from qiskit.aqua import *\n",
    "from qiskit.aqua.algorithms import *\n",
    "from qiskit.aqua.components.oracles import *\n",
    "from qiskit.tools.monitor import *\n",
    "from qiskit.tools.visualization import *"
   ]
  },
  {
   "cell_type": "code",
   "execution_count": 2,
   "metadata": {},
   "outputs": [],
   "source": [
    "%matplotlib inline"
   ]
  },
  {
   "cell_type": "code",
   "execution_count": 28,
   "metadata": {},
   "outputs": [],
   "source": [
    "_input = '''\n",
    "p cnf 4 5\n",
    "-1 -2 -3 4 0\n",
    "1 -2 3 -4 0\n",
    "1 2 -3 -4 0\n",
    "1 -2 -3 4 0\n",
    "-1 2 3 -4 0\n",
    "'''\n",
    "oracle = LogicalExpressionOracle(_input)\n",
    "grover = Grover(oracle)"
   ]
  },
  {
   "cell_type": "code",
   "execution_count": 31,
   "metadata": {},
   "outputs": [
    {
     "data": {
      "text/plain": [
       "<qiskit.aqua.components.oracles.logical_expression_oracle.LogicalExpressionOracle at 0x167d42b7e48>"
      ]
     },
     "execution_count": 31,
     "metadata": {},
     "output_type": "execute_result"
    }
   ],
   "source": [
    "oracle."
   ]
  },
  {
   "cell_type": "code",
   "execution_count": null,
   "metadata": {},
   "outputs": [],
   "source": []
  }
 ],
 "metadata": {
  "kernelspec": {
   "display_name": "Python 3",
   "language": "python",
   "name": "python3"
  },
  "language_info": {
   "codemirror_mode": {
    "name": "ipython",
    "version": 3
   },
   "file_extension": ".py",
   "mimetype": "text/x-python",
   "name": "python",
   "nbconvert_exporter": "python",
   "pygments_lexer": "ipython3",
   "version": "3.7.6"
  }
 },
 "nbformat": 4,
 "nbformat_minor": 4
}
